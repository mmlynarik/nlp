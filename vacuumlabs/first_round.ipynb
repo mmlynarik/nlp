{
 "cells": [
  {
   "cell_type": "code",
   "execution_count": 204,
   "id": "1a45dec6",
   "metadata": {},
   "outputs": [],
   "source": [
    "def get_synonyms_sets(content_list):\n",
    "    synonym_sets = []\n",
    "    k = 0\n",
    "    while content_list:\n",
    "        first, second = content_list.pop(0).split()\n",
    "        synonym_sets.append({first, second})\n",
    "        added = True\n",
    "        while added:\n",
    "            added = False\n",
    "            for idx, line in enumerate(content_list):\n",
    "                first, second = line.split()[0], line.split()[1]\n",
    "                if first in synonym_sets[k]:\n",
    "                    content_list.pop(idx)\n",
    "                    synonym_sets[k].add(second)\n",
    "                    added = True\n",
    "                    break\n",
    "                elif second in synonym_sets[k]:\n",
    "                    content_list.pop(idx)\n",
    "                    synonym_sets[k].add(first)\n",
    "                    added = True\n",
    "                    break\n",
    "\n",
    "        k += 1\n",
    "    return synonym_sets\n",
    "\n",
    "with open(\"test.txt\", \"r\", encoding=\"UTF-8\") as f:\n",
    "    content = f.read()\n",
    "\n",
    "content = content.split(\"\\n\")\n",
    "content = list(map(lambda x: x.lower(), content))\n",
    "n_cases = int(content[0])\n",
    "\n",
    "pos = 1\n",
    "with open(\"output.txt\", \"w\", encoding=\"UTF-8\") as f:\n",
    "    for i in range(n_cases):\n",
    "        N = int(content[pos])\n",
    "        pos += 1\n",
    "        synonym_sets = get_synonyms_sets(content[pos: pos + N])\n",
    "       \n",
    "        pos += N\n",
    "        Q = int(content[pos])\n",
    "        pos += 1\n",
    "        query_tuples = [(x.split()[0], x.split()[1]) for x in content[pos: pos + Q]]\n",
    "        pos += Q\n",
    "        \n",
    "        for query in query_tuples:\n",
    "            added = 0\n",
    "            if query[0] == query[1]:\n",
    "                f.write(\"synonyms\\n\")\n",
    "                added = 1\n",
    "                continue\n",
    "            for synset in synonym_sets:\n",
    "                if query[0] in synset and query[1] in synset:\n",
    "                    f.write(\"synonyms\\n\")\n",
    "                    added = 1\n",
    "                    break\n",
    "            if not added:\n",
    "                f.write(\"different\\n\")\n"
   ]
  }
 ],
 "metadata": {
  "interpreter": {
   "hash": "100dc7fecc552b582d2d98ec8e90ba67bf7a8cdb92c8f3acdbfd14bada2c901f"
  },
  "kernelspec": {
   "display_name": "Python 3.8.10 64-bit ('.venv': poetry)",
   "language": "python",
   "name": "python3"
  },
  "language_info": {
   "codemirror_mode": {
    "name": "ipython",
    "version": 3
   },
   "file_extension": ".py",
   "mimetype": "text/x-python",
   "name": "python",
   "nbconvert_exporter": "python",
   "pygments_lexer": "ipython3",
   "version": "3.8.10"
  }
 },
 "nbformat": 4,
 "nbformat_minor": 5
}
