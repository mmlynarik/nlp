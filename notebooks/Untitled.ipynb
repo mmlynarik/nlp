{
 "cells": [
  {
   "cell_type": "code",
   "execution_count": 5,
   "id": "a9a2dfec-91dc-4fd9-8cdc-ed30d9cb5561",
   "metadata": {},
   "outputs": [],
   "source": [
    "import pandas as pd\n",
    "import transformers"
   ]
  },
  {
   "cell_type": "code",
   "execution_count": 7,
   "id": "ba6abf0b-da59-4e6b-852e-3d6cef9d1412",
   "metadata": {},
   "outputs": [
    {
     "name": "stdout",
     "output_type": "stream",
     "text": [
      "<reviews count='92398'>\n",
      "  <review polarity='1' origRating='5' product='Mein langsames Leben (2001)' origFile='115383.html'>\n",
      "    <text>Druhý film Angely Schanelec o počasí. :) Po zhlédnutí Platze in Stadten jsem byl zvědavý na její následující film. Její rukopis jsem rozeznal hned podle prvních pár záběrů. Vyhýbání se středovým kompozicím, využívání barevnosti kostýmů, věcí a okolí a vždy výrazné počasí. Hlavní postava je divákovi mírně nepříjemná svou odtažitostí a v podstatě namyšleností. Schanelec ji výborně vykresluje, stejně jako většinu ostatních postav. Extrémně \"potěšující\" je možná návaznost s minulým filmem - skrze postavu vdávající se známé. Lze to brát jako dopovězení minulého filmu, který končil \"na dně\", ze které je nutné se vyhrabat.</text>\n",
      "  </review>\n",
      "  <review polarity='0' origRating='2' product='Mein langsames Leben (2001)' origFile='115383.html'>\n"
     ]
    }
   ],
   "source": [
    "! head -n 5 ./notebooks/csfd-90k-reviews-ranlp2013.xml"
   ]
  }
 ],
 "metadata": {
  "kernelspec": {
   "display_name": "Python 3.9.5 ('.venv': poetry)",
   "language": "python",
   "name": "python3"
  },
  "language_info": {
   "codemirror_mode": {
    "name": "ipython",
    "version": 3
   },
   "file_extension": ".py",
   "mimetype": "text/x-python",
   "name": "python",
   "nbconvert_exporter": "python",
   "pygments_lexer": "ipython3",
   "version": "3.9.5"
  },
  "vscode": {
   "interpreter": {
    "hash": "e1b193493255a38d5929b2133cd6d36124364c57f2c05e0a2600f56b556a00f4"
   }
  }
 },
 "nbformat": 4,
 "nbformat_minor": 5
}
