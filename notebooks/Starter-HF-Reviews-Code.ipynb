{
 "cells": [
  {
   "cell_type": "code",
   "execution_count": 1,
   "metadata": {
    "executionInfo": {
     "elapsed": 31183,
     "status": "ok",
     "timestamp": 1653560444202,
     "user": {
      "displayName": "Nick Doiron",
      "userId": "11803919130963515468"
     },
     "user_tz": -120
    },
    "id": "eSx6y1y6jio3"
   },
   "outputs": [],
   "source": [
    "%%capture\n",
    "! pip install transformers datasets\n",
    "# versions: https://pypi.org/project/transformers/"
   ]
  },
  {
   "cell_type": "markdown",
   "metadata": {
    "id": "_VrSzXyGjzjC"
   },
   "source": [
    "Read more about models and developers:\n",
    "\n",
    "- Czert https://huggingface.co/UWB-AIR/Czert-B-base-cased\n",
    "- Slavic-BERT https://huggingface.co/DeepPavlov/bert-base-bg-cs-pl-ru-cased\n",
    "- cst5 https://huggingface.co/azizbarank/cst5-base\n",
    "\n",
    "*Why only HuggingFace?* It's totally OK to have other models on your own site or spaCy or TFHub. During a workshop it's easier to use one source."
   ]
  },
  {
   "cell_type": "markdown",
   "metadata": {
    "id": "5mWxtVuqlXlM"
   },
   "source": [
    "## Understanding the tokenizer\n",
    "\n",
    "After seeing this tokenizer understands words (or sub-words)\n",
    "\n",
    "Change it to your model."
   ]
  },
  {
   "cell_type": "code",
   "execution_count": 6,
   "metadata": {
    "id": "2Y-o9L2zkbL0"
   },
   "outputs": [
    {
     "name": "stderr",
     "output_type": "stream",
     "text": [
      "/home/miro/python/okra/.venv/lib/python3.8/site-packages/urllib3/connectionpool.py:1013: InsecureRequestWarning: Unverified HTTPS request is being made to host 'huggingface.co'. Adding certificate verification is strongly advised. See: https://urllib3.readthedocs.io/en/1.26.x/advanced-usage.html#ssl-warnings\n",
      "  warnings.warn(\n",
      "/home/miro/python/okra/.venv/lib/python3.8/site-packages/urllib3/connectionpool.py:1013: InsecureRequestWarning: Unverified HTTPS request is being made to host 'huggingface.co'. Adding certificate verification is strongly advised. See: https://urllib3.readthedocs.io/en/1.26.x/advanced-usage.html#ssl-warnings\n",
      "  warnings.warn(\n",
      "/home/miro/python/okra/.venv/lib/python3.8/site-packages/urllib3/connectionpool.py:1013: InsecureRequestWarning: Unverified HTTPS request is being made to host 'huggingface.co'. Adding certificate verification is strongly advised. See: https://urllib3.readthedocs.io/en/1.26.x/advanced-usage.html#ssl-warnings\n",
      "  warnings.warn(\n",
      "/home/miro/python/okra/.venv/lib/python3.8/site-packages/urllib3/connectionpool.py:1013: InsecureRequestWarning: Unverified HTTPS request is being made to host 'huggingface.co'. Adding certificate verification is strongly advised. See: https://urllib3.readthedocs.io/en/1.26.x/advanced-usage.html#ssl-warnings\n",
      "  warnings.warn(\n",
      "/home/miro/python/okra/.venv/lib/python3.8/site-packages/urllib3/connectionpool.py:1013: InsecureRequestWarning: Unverified HTTPS request is being made to host 'huggingface.co'. Adding certificate verification is strongly advised. See: https://urllib3.readthedocs.io/en/1.26.x/advanced-usage.html#ssl-warnings\n",
      "  warnings.warn(\n",
      "/home/miro/python/okra/.venv/lib/python3.8/site-packages/urllib3/connectionpool.py:1013: InsecureRequestWarning: Unverified HTTPS request is being made to host 'huggingface.co'. Adding certificate verification is strongly advised. See: https://urllib3.readthedocs.io/en/1.26.x/advanced-usage.html#ssl-warnings\n",
      "  warnings.warn(\n",
      "/home/miro/python/okra/.venv/lib/python3.8/site-packages/urllib3/connectionpool.py:1013: InsecureRequestWarning: Unverified HTTPS request is being made to host 'huggingface.co'. Adding certificate verification is strongly advised. See: https://urllib3.readthedocs.io/en/1.26.x/advanced-usage.html#ssl-warnings\n",
      "  warnings.warn(\n",
      "/home/miro/python/okra/.venv/lib/python3.8/site-packages/urllib3/connectionpool.py:1013: InsecureRequestWarning: Unverified HTTPS request is being made to host 'huggingface.co'. Adding certificate verification is strongly advised. See: https://urllib3.readthedocs.io/en/1.26.x/advanced-usage.html#ssl-warnings\n",
      "  warnings.warn(\n",
      "/home/miro/python/okra/.venv/lib/python3.8/site-packages/urllib3/connectionpool.py:1013: InsecureRequestWarning: Unverified HTTPS request is being made to host 'huggingface.co'. Adding certificate verification is strongly advised. See: https://urllib3.readthedocs.io/en/1.26.x/advanced-usage.html#ssl-warnings\n",
      "  warnings.warn(\n"
     ]
    }
   ],
   "source": [
    "from transformers import AutoTokenizer\n",
    "import os\n",
    "os.environ[\"CURL_CA_BUNDLE\"]= \"\"\n",
    "tokenizer = AutoTokenizer.from_pretrained('bert-base-cased')"
   ]
  },
  {
   "cell_type": "code",
   "execution_count": 7,
   "metadata": {
    "id": "IWWQNEJ64U8h"
   },
   "outputs": [
    {
     "data": {
      "text/plain": [
       "['Hello', 'my', 'name', 'is', 'Nick', '.']"
      ]
     },
     "execution_count": 7,
     "metadata": {},
     "output_type": "execute_result"
    }
   ],
   "source": [
    "# Recognizing words\n",
    "tokenizer.tokenize('Hello my name is Nick.')"
   ]
  },
  {
   "cell_type": "code",
   "execution_count": 8,
   "metadata": {
    "id": "mgB60PYT4Z6Z"
   },
   "outputs": [
    {
     "data": {
      "text/plain": [
       "['At', 'the', 'bakery', 'I', 'bought', 'k', '##ola', '##ches', '.']"
      ]
     },
     "execution_count": 8,
     "metadata": {},
     "output_type": "execute_result"
    }
   ],
   "source": [
    "# Larger and less common words are split into tokens\n",
    "tokenizer.tokenize('At the bakery I bought kolaches.')"
   ]
  },
  {
   "cell_type": "code",
   "execution_count": 9,
   "metadata": {
    "id": "L9OL_MjlklhI"
   },
   "outputs": [
    {
     "data": {
      "text/plain": [
       "['Arthur',\n",
       " 'k',\n",
       " '##ou',\n",
       " '##pi',\n",
       " '##l',\n",
       " 'k',\n",
       " '##ol',\n",
       " '##á',\n",
       " '##č',\n",
       " 's',\n",
       " 'j',\n",
       " '##able',\n",
       " '##č',\n",
       " '##no',\n",
       " '##u',\n",
       " 'n',\n",
       " '##á',\n",
       " '##p',\n",
       " '##ln',\n",
       " '##í',\n",
       " '.']"
      ]
     },
     "execution_count": 9,
     "metadata": {},
     "output_type": "execute_result"
    }
   ],
   "source": [
    "# Recognizing words (Czech)\n",
    "tokenizer.tokenize('Arthur koupil koláč s jablečnou náplní.')"
   ]
  },
  {
   "cell_type": "code",
   "execution_count": 10,
   "metadata": {
    "id": "Ms086MLnlO5-"
   },
   "outputs": [
    {
     "data": {
      "text/plain": [
       "{'input_ids': [101, 7066, 1186, 3361, 2051, 2149, 119, 102], 'token_type_ids': [0, 0, 0, 0, 0, 0, 0, 0], 'attention_mask': [1, 1, 1, 1, 1, 1, 1, 1]}"
      ]
     },
     "execution_count": 10,
     "metadata": {},
     "output_type": "execute_result"
    }
   ],
   "source": [
    "# Encoding into IDs (which model will turn into vector / embeddings)\n",
    "tokenizer('Ahoj Artur.')"
   ]
  },
  {
   "cell_type": "code",
   "execution_count": 11,
   "metadata": {
    "colab": {
     "base_uri": "https://localhost:8080/"
    },
    "executionInfo": {
     "elapsed": 11,
     "status": "ok",
     "timestamp": 1652305500646,
     "user": {
      "displayName": "Nick Doiron",
      "userId": "11803919130963515468"
     },
     "user_tz": 420
    },
    "id": "aMRcvEFdlcmx",
    "outputId": "7f4581d2-de25-4324-d475-2082a77c0dcc"
   },
   "outputs": [
    {
     "data": {
      "text/plain": [
       "['?']"
      ]
     },
     "execution_count": 11,
     "metadata": {},
     "output_type": "execute_result"
    }
   ],
   "source": [
    "# Splitting up a word\n",
    "tokenizer.tokenize('?')"
   ]
  },
  {
   "cell_type": "code",
   "execution_count": 12,
   "metadata": {
    "colab": {
     "base_uri": "https://localhost:8080/"
    },
    "executionInfo": {
     "elapsed": 9,
     "status": "ok",
     "timestamp": 1652305500646,
     "user": {
      "displayName": "Nick Doiron",
      "userId": "11803919130963515468"
     },
     "user_tz": 420
    },
    "id": "yIdZ21DWlo0k",
    "outputId": "7534ff5f-a281-48db-9281-f83a2bf7c4b3"
   },
   "outputs": [
    {
     "data": {
      "text/plain": [
       "['?']"
      ]
     },
     "execution_count": 12,
     "metadata": {},
     "output_type": "execute_result"
    }
   ],
   "source": [
    "# Is it significant who has 1-token names in our model?\n",
    "tokenizer.tokenize('?')"
   ]
  },
  {
   "cell_type": "markdown",
   "metadata": {
    "id": "yDasZblpL6yc"
   },
   "source": [
    "## Dataset"
   ]
  },
  {
   "cell_type": "code",
   "execution_count": 23,
   "metadata": {
    "id": "HIc1lPOxL7fW"
   },
   "outputs": [
    {
     "data": {
      "text/html": [
       "<div>\n",
       "<style scoped>\n",
       "    .dataframe tbody tr th:only-of-type {\n",
       "        vertical-align: middle;\n",
       "    }\n",
       "\n",
       "    .dataframe tbody tr th {\n",
       "        vertical-align: top;\n",
       "    }\n",
       "\n",
       "    .dataframe thead th {\n",
       "        text-align: right;\n",
       "    }\n",
       "</style>\n",
       "<table border=\"1\" class=\"dataframe\">\n",
       "  <thead>\n",
       "    <tr style=\"text-align: right;\">\n",
       "      <th></th>\n",
       "      <th>text</th>\n",
       "      <th>rating</th>\n",
       "    </tr>\n",
       "  </thead>\n",
       "  <tbody>\n",
       "    <tr>\n",
       "      <th>0</th>\n",
       "      <td>Druhý film Angely Schanelec o počasí. :) Po zh...</td>\n",
       "      <td>5</td>\n",
       "    </tr>\n",
       "    <tr>\n",
       "      <th>1</th>\n",
       "      <td>U Pomalého života jsem strávil 80 minut a teď ...</td>\n",
       "      <td>2</td>\n",
       "    </tr>\n",
       "    <tr>\n",
       "      <th>2</th>\n",
       "      <td>Nevím, jestli je to nepovedeným dabingem, otra...</td>\n",
       "      <td>2</td>\n",
       "    </tr>\n",
       "    <tr>\n",
       "      <th>3</th>\n",
       "      <td>Upřímný a velice smutný film, chvílemi tak dep...</td>\n",
       "      <td>5</td>\n",
       "    </tr>\n",
       "    <tr>\n",
       "      <th>4</th>\n",
       "      <td>Možná to bude trochu divný komentář, ale nemůž...</td>\n",
       "      <td>2</td>\n",
       "    </tr>\n",
       "  </tbody>\n",
       "</table>\n",
       "</div>"
      ],
      "text/plain": [
       "                                                text  rating\n",
       "0  Druhý film Angely Schanelec o počasí. :) Po zh...       5\n",
       "1  U Pomalého života jsem strávil 80 minut a teď ...       2\n",
       "2  Nevím, jestli je to nepovedeným dabingem, otra...       2\n",
       "3  Upřímný a velice smutný film, chvílemi tak dep...       5\n",
       "4  Možná to bude trochu divný komentář, ale nemůž...       2"
      ]
     },
     "execution_count": 23,
     "metadata": {},
     "output_type": "execute_result"
    }
   ],
   "source": [
    "import pandas as pd\n",
    "import xml.etree.ElementTree as ET\n",
    "\n",
    "xml_data = open('./csfd-90k-reviews-ranlp2013.xml', 'r').read()\n",
    "root = ET.XML(xml_data)\n",
    "\n",
    "rows = []\n",
    "for index, child in enumerate(root):\n",
    "    txt = child.findtext('text')\n",
    "    rating = int(child.attrib['origRating'])\n",
    "    rows.append([txt, rating])\n",
    "\n",
    "all_data = pd.DataFrame(rows, columns=['text', 'rating'])\n",
    "all_data.head()"
   ]
  },
  {
   "cell_type": "code",
   "execution_count": 24,
   "metadata": {
    "colab": {
     "base_uri": "https://localhost:8080/"
    },
    "executionInfo": {
     "elapsed": 11,
     "status": "ok",
     "timestamp": 1652305503428,
     "user": {
      "displayName": "Nick Doiron",
      "userId": "11803919130963515468"
     },
     "user_tz": 420
    },
    "id": "Rw7T8_ImM5QK",
    "outputId": "16af9fa9-a9dd-4134-e6a7-1e8dcff0d45b"
   },
   "outputs": [
    {
     "data": {
      "text/plain": [
       "92398"
      ]
     },
     "execution_count": 24,
     "metadata": {},
     "output_type": "execute_result"
    }
   ],
   "source": [
    "len(all_data)"
   ]
  },
  {
   "cell_type": "markdown",
   "metadata": {
    "id": "efsxInLHN4vg"
   },
   "source": [
    "Unfortunately this takes ~2 hours per epoch even after train-test split, and the workshop has limited time (AND CoLab is only open for 12-24 hours)."
   ]
  },
  {
   "cell_type": "code",
   "execution_count": 28,
   "metadata": {
    "id": "oQOI_SEEM634"
   },
   "outputs": [],
   "source": [
    "from sklearn.model_selection import train_test_split\n",
    "all_data['label'] = all_data['rating'].astype('float')\n",
    "sample_data = all_data.sample(10_000, random_state=101)\n",
    "\n",
    "train_df, test_df = train_test_split(sample_data, random_state=404)"
   ]
  },
  {
   "cell_type": "markdown",
   "metadata": {
    "id": "dhIogNhTVfaL"
   },
   "source": [
    "Know the number of classes"
   ]
  },
  {
   "cell_type": "code",
   "execution_count": 33,
   "metadata": {
    "colab": {
     "base_uri": "https://localhost:8080/"
    },
    "executionInfo": {
     "elapsed": 3,
     "status": "ok",
     "timestamp": 1652305503717,
     "user": {
      "displayName": "Nick Doiron",
      "userId": "11803919130963515468"
     },
     "user_tz": 420
    },
    "id": "tJyEWsTG-HkK",
    "outputId": "ef666dad-f566-4a80-d35e-857ff7b8a161"
   },
   "outputs": [
    {
     "data": {
      "text/plain": [
       "{-1.0, 0.0, 1.0, 2.0, 3.0, 4.0, 5.0}"
      ]
     },
     "execution_count": 33,
     "metadata": {},
     "output_type": "execute_result"
    }
   ],
   "source": [
    "set(train_df.label.values)"
   ]
  },
  {
   "cell_type": "markdown",
   "metadata": {
    "id": "mrkmRs5NVleA"
   },
   "source": [
    "Using HuggingFace Datasets format (from DataFrame)"
   ]
  },
  {
   "cell_type": "code",
   "execution_count": 30,
   "metadata": {
    "id": "XgdFcDojeKPT"
   },
   "outputs": [
    {
     "data": {
      "application/vnd.jupyter.widget-view+json": {
       "model_id": "8ee402ce11e64b869c0e0af5936d92c7",
       "version_major": 2,
       "version_minor": 0
      },
      "text/plain": [
       "  0%|          | 0/8 [00:00<?, ?ba/s]"
      ]
     },
     "metadata": {},
     "output_type": "display_data"
    },
    {
     "data": {
      "application/vnd.jupyter.widget-view+json": {
       "model_id": "ec134b821c01496191daf5cd64903cb9",
       "version_major": 2,
       "version_minor": 0
      },
      "text/plain": [
       "  0%|          | 0/3 [00:00<?, ?ba/s]"
      ]
     },
     "metadata": {},
     "output_type": "display_data"
    }
   ],
   "source": [
    "from datasets import Dataset\n",
    "\n",
    "def tokenize_function(examples):\n",
    "    return tokenizer(examples[\"text\"], padding=\"max_length\", truncation=True, max_length=120)\n",
    "\n",
    "train_dset = Dataset.from_pandas(train_df).map(tokenize_function, batched=True)\n",
    "test_dset = Dataset.from_pandas(test_df).map(tokenize_function, batched=True)"
   ]
  },
  {
   "cell_type": "markdown",
   "metadata": {
    "id": "hNOE-EbamYlF"
   },
   "source": [
    "## Downloading the model"
   ]
  },
  {
   "cell_type": "code",
   "execution_count": 35,
   "metadata": {
    "id": "QKIcM6K1LBeH"
   },
   "outputs": [
    {
     "name": "stderr",
     "output_type": "stream",
     "text": [
      "/home/miro/python/okra/.venv/lib/python3.8/site-packages/urllib3/connectionpool.py:1013: InsecureRequestWarning: Unverified HTTPS request is being made to host 'huggingface.co'. Adding certificate verification is strongly advised. See: https://urllib3.readthedocs.io/en/1.26.x/advanced-usage.html#ssl-warnings\n",
      "  warnings.warn(\n",
      "/home/miro/python/okra/.venv/lib/python3.8/site-packages/urllib3/connectionpool.py:1013: InsecureRequestWarning: Unverified HTTPS request is being made to host 'huggingface.co'. Adding certificate verification is strongly advised. See: https://urllib3.readthedocs.io/en/1.26.x/advanced-usage.html#ssl-warnings\n",
      "  warnings.warn(\n",
      "/home/miro/python/okra/.venv/lib/python3.8/site-packages/urllib3/connectionpool.py:1013: InsecureRequestWarning: Unverified HTTPS request is being made to host 'cdn-lfs.huggingface.co'. Adding certificate verification is strongly advised. See: https://urllib3.readthedocs.io/en/1.26.x/advanced-usage.html#ssl-warnings\n",
      "  warnings.warn(\n"
     ]
    },
    {
     "data": {
      "application/vnd.jupyter.widget-view+json": {
       "model_id": "67d06015cf3843938e6d642a8bf69dd1",
       "version_major": 2,
       "version_minor": 0
      },
      "text/plain": [
       "Downloading:   0%|          | 0.00/416M [00:00<?, ?B/s]"
      ]
     },
     "metadata": {},
     "output_type": "display_data"
    },
    {
     "name": "stderr",
     "output_type": "stream",
     "text": [
      "Some weights of the model checkpoint at bert-base-cased were not used when initializing BertForSequenceClassification: ['cls.predictions.transform.LayerNorm.weight', 'cls.predictions.transform.dense.weight', 'cls.predictions.transform.dense.bias', 'cls.seq_relationship.bias', 'cls.predictions.decoder.weight', 'cls.predictions.bias', 'cls.seq_relationship.weight', 'cls.predictions.transform.LayerNorm.bias']\n",
      "- This IS expected if you are initializing BertForSequenceClassification from the checkpoint of a model trained on another task or with another architecture (e.g. initializing a BertForSequenceClassification model from a BertForPreTraining model).\n",
      "- This IS NOT expected if you are initializing BertForSequenceClassification from the checkpoint of a model that you expect to be exactly identical (initializing a BertForSequenceClassification model from a BertForSequenceClassification model).\n",
      "Some weights of BertForSequenceClassification were not initialized from the model checkpoint at bert-base-cased and are newly initialized: ['classifier.weight', 'classifier.bias']\n",
      "You should probably TRAIN this model on a down-stream task to be able to use it for predictions and inference.\n"
     ]
    }
   ],
   "source": [
    "from transformers import AutoModelForSequenceClassification\n",
    "\n",
    "model = AutoModelForSequenceClassification.from_pretrained(\n",
    "    'bert-base-cased',\n",
    "\n",
    "    # for regression    \n",
    "    num_labels=1,\n",
    "    ignore_mismatched_sizes=True,\n",
    "\n",
    "    # for classification\n",
    "    # num_labels=len(?),\n",
    ")"
   ]
  },
  {
   "cell_type": "markdown",
   "metadata": {
    "id": "lo3GdX0ZJtwA"
   },
   "source": [
    "## Fine-tuning\n",
    "\n",
    "HuggingFace has some info about freezing layers in the model, if that sounds interesting https://discuss.huggingface.co/t/freeze-lower-layers-with-auto-classification-model/11386"
   ]
  },
  {
   "cell_type": "code",
   "execution_count": 36,
   "metadata": {
    "id": "OQYNL78Pcd70"
   },
   "outputs": [],
   "source": [
    "from transformers import TrainingArguments, Trainer\n",
    "\n",
    "training_args = TrainingArguments(\n",
    "    output_dir=\"./outputs\",\n",
    "    evaluation_strategy=\"epoch\",\n",
    "    save_strategy=\"epoch\",\n",
    "    num_train_epochs=2,\n",
    ")\n",
    "\n",
    "\n",
    "# def compute_metrics(eval_pred):\n",
    "#   return {\"rmse\": rmse}\n",
    "\n",
    "# https://huggingface.co/docs/transformers/main_classes/trainer\n",
    "trainer = Trainer(\n",
    "    model=model,\n",
    "    args=training_args,\n",
    "    train_dataset=train_dset,\n",
    "    eval_dataset=test_dset,\n",
    "    # compute_metrics=compute_metrics,\n",
    "    # optimizers=, (set the optimizer and learning rate scheduler)\n",
    ")"
   ]
  },
  {
   "cell_type": "code",
   "execution_count": null,
   "metadata": {
    "id": "GiBvQKnfgVCx"
   },
   "outputs": [],
   "source": [
    "trainer.train()"
   ]
  },
  {
   "cell_type": "markdown",
   "metadata": {
    "id": "g_DzrFkhJ4D2"
   },
   "source": [
    "## Predictions and Evaluation"
   ]
  },
  {
   "cell_type": "code",
   "execution_count": null,
   "metadata": {
    "id": "BJzSyZc4Pp3g"
   },
   "outputs": [],
   "source": [
    "predictions = trainer.predict(test_dset)"
   ]
  },
  {
   "cell_type": "code",
   "execution_count": null,
   "metadata": {
    "id": "pWJuo158ENSf"
   },
   "outputs": [],
   "source": [
    "predictions.predictions"
   ]
  },
  {
   "cell_type": "code",
   "execution_count": null,
   "metadata": {
    "id": "chwztrcDAtyd"
   },
   "outputs": [],
   "source": [
    "\"\"\"\n",
    "# get best label out of classification probabilities\n",
    "best = []\n",
    "for p in predictions.predictions:\n",
    "  best.append(p.argmax())\n",
    "\"\"\"\n",
    "\n",
    "# get number out of regression predictions\n",
    "best = []\n",
    "for p in predictions.predictions:\n",
    "  best.append(p[0])\n",
    "best[:10]"
   ]
  },
  {
   "cell_type": "markdown",
   "metadata": {
    "id": "MY5ZbbmnJ698"
   },
   "source": [
    "## Exporting"
   ]
  },
  {
   "cell_type": "code",
   "execution_count": null,
   "metadata": {
    "id": "72bOyu3YOejI"
   },
   "outputs": [],
   "source": [
    "# Downloading model\n",
    "! ls outputs/*"
   ]
  },
  {
   "cell_type": "code",
   "execution_count": null,
   "metadata": {
    "id": "-jA8SHmAQ7nD"
   },
   "outputs": [],
   "source": [
    "! cp -r outputs/checkpoint-2814 ./drive/MyDrive/czech-movie-rating-model"
   ]
  },
  {
   "cell_type": "markdown",
   "metadata": {
    "id": "3XsBXeRrV8tL"
   },
   "source": [
    "https://huggingface.co/docs/transformers/model_sharing"
   ]
  },
  {
   "cell_type": "code",
   "execution_count": null,
   "metadata": {
    "id": "bNfdkzcVV73x"
   },
   "outputs": [],
   "source": [
    "from huggingface_hub import notebook_login\n",
    "notebook_login()"
   ]
  },
  {
   "cell_type": "code",
   "execution_count": null,
   "metadata": {
    "id": "U082MzdqWKRy"
   },
   "outputs": [],
   "source": [
    "tokenizer.push_to_hub(\"czech-movie-rating\")\n",
    "trainer.model.push_to_hub(\"czech-movie-rating\")"
   ]
  }
 ],
 "metadata": {
  "accelerator": "GPU",
  "colab": {
   "authorship_tag": "ABX9TyMRz6SX0r2u27P2s3M5m3w8",
   "collapsed_sections": [],
   "mount_file_id": "1yV33DfuUuHHj9DLatrhEkag8nM0wPARW",
   "name": "Starter-HF-Reviews-Code.ipynb",
   "provenance": [
    {
     "file_id": "1yV33DfuUuHHj9DLatrhEkag8nM0wPARW",
     "timestamp": 1652309676941
    },
    {
     "file_id": "1_xV9to0xkRIjd48FAu8ChSjAgdYmHVzB",
     "timestamp": 1651959017202
    },
    {
     "file_id": "16Q-PakFCXTuuPCzllyTtoRRttfrp7f16",
     "timestamp": 1651954380585
    }
   ]
  },
  "kernelspec": {
   "display_name": "Python 3 (ipykernel)",
   "language": "python",
   "name": "python3"
  },
  "language_info": {
   "codemirror_mode": {
    "name": "ipython",
    "version": 3
   },
   "file_extension": ".py",
   "mimetype": "text/x-python",
   "name": "python",
   "nbconvert_exporter": "python",
   "pygments_lexer": "ipython3",
   "version": "3.8.10"
  }
 },
 "nbformat": 4,
 "nbformat_minor": 4
}
