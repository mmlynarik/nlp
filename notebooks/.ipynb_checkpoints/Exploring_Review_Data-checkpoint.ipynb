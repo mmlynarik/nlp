{
  "nbformat": 4,
  "nbformat_minor": 0,
  "metadata": {
    "colab": {
      "name": "Exploring-Review-Data.ipynb",
      "provenance": [],
      "collapsed_sections": []
    },
    "kernelspec": {
      "name": "python3",
      "display_name": "Python 3"
    },
    "language_info": {
      "name": "python"
    }
  },
  "cells": [
    {
      "cell_type": "code",
      "source": [
        "%%capture\n",
        "\"\"\"\n",
        "Do you have a Python package manager?\n",
        "\n",
        "- No / I don't know:  Use pip or Google CoLab\n",
        "- Yes, conda or something not pip: install pandas, simpletransformers, ecco\n",
        "- Yes, pip: run this code\n",
        "\"\"\"\n",
        "\n",
        "! pip3 install pandas simpletransformers ecco"
      ],
      "metadata": {
        "id": "vCilkJt-NiXd"
      },
      "execution_count": 1,
      "outputs": []
    },
    {
      "cell_type": "markdown",
      "source": [
        "Data Source: https://liks.fav.zcu.cz/sentiment/ "
      ],
      "metadata": {
        "id": "Q6wAljt6rSya"
      }
    },
    {
      "cell_type": "code",
      "execution_count": null,
      "metadata": {
        "id": "Fihw_BPpKz-6"
      },
      "outputs": [],
      "source": [
        "# Dependencies\n",
        "import pandas as pd"
      ]
    },
    {
      "cell_type": "markdown",
      "source": [
        "### <----- Add access to your Google Drive\n",
        "\n",
        "Or upload the .bz2"
      ],
      "metadata": {
        "id": "f2HOkE4nMoPY"
      }
    },
    {
      "cell_type": "code",
      "source": [
        "! ls drive/*/Prague_Workshop/*.bz2"
      ],
      "metadata": {
        "colab": {
          "base_uri": "https://localhost:8080/"
        },
        "id": "phMQQycJLjRn",
        "outputId": "774b4670-7182-45c0-eb21-3aab78da9e7b"
      },
      "execution_count": null,
      "outputs": [
        {
          "output_type": "stream",
          "name": "stdout",
          "text": [
            "drive/MyDrive/Prague_Workshop/csfd-90k-reviews-ranlp2013.tar.bz2\n"
          ]
        }
      ]
    },
    {
      "cell_type": "code",
      "source": [
        "! cp drive/*/Prague_Workshop/*.bz2 ./"
      ],
      "metadata": {
        "id": "6phQtMKdSgN6"
      },
      "execution_count": null,
      "outputs": []
    },
    {
      "cell_type": "code",
      "source": [
        "! tar -xvf csfd-90k-reviews-ranlp2013.tar.bz2"
      ],
      "metadata": {
        "colab": {
          "base_uri": "https://localhost:8080/"
        },
        "id": "Cl_aJtrSSpa7",
        "outputId": "51a7da7e-c772-4690-f632-d6a8770facdb"
      },
      "execution_count": null,
      "outputs": [
        {
          "output_type": "stream",
          "name": "stdout",
          "text": [
            "csfd-90k-reviews-ranlp2013.xml\n"
          ]
        }
      ]
    },
    {
      "cell_type": "code",
      "source": [
        "! head -n 5 ./csfd-90k-reviews-ranlp2013.xml"
      ],
      "metadata": {
        "colab": {
          "base_uri": "https://localhost:8080/"
        },
        "id": "450CinvzMUtF",
        "outputId": "13ecf874-8ae2-4e7a-80dd-cae37179e0b0"
      },
      "execution_count": null,
      "outputs": [
        {
          "output_type": "stream",
          "name": "stdout",
          "text": [
            "<reviews count='92398'>\n",
            "  <review polarity='1' origRating='5' product='Mein langsames Leben (2001)' origFile='115383.html'>\n",
            "    <text>Druhý film Angely Schanelec o počasí. :) Po zhlédnutí Platze in Stadten jsem byl zvědavý na její následující film. Její rukopis jsem rozeznal hned podle prvních pár záběrů. Vyhýbání se středovým kompozicím, využívání barevnosti kostýmů, věcí a okolí a vždy výrazné počasí. Hlavní postava je divákovi mírně nepříjemná svou odtažitostí a v podstatě namyšleností. Schanelec ji výborně vykresluje, stejně jako většinu ostatních postav. Extrémně \"potěšující\" je možná návaznost s minulým filmem - skrze postavu vdávající se známé. Lze to brát jako dopovězení minulého filmu, který končil \"na dně\", ze které je nutné se vyhrabat.</text>\n",
            "  </review>\n",
            "  <review polarity='0' origRating='2' product='Mein langsames Leben (2001)' origFile='115383.html'>\n"
          ]
        }
      ]
    },
    {
      "cell_type": "code",
      "source": [
        "import xml.etree.ElementTree as ET\n",
        "\n",
        "xml_data = open('./csfd-90k-reviews-ranlp2013.xml', 'r').read()\n",
        "root = ET.XML(xml_data)"
      ],
      "metadata": {
        "id": "yDrgkLxDLsFt"
      },
      "execution_count": null,
      "outputs": []
    },
    {
      "cell_type": "code",
      "source": [
        "# Getting info out of the XML:\n",
        "for index, child in enumerate(root):\n",
        "  print(child.attrib)\n",
        "  print(child.findtext('text'))\n",
        "  break"
      ],
      "metadata": {
        "colab": {
          "base_uri": "https://localhost:8080/"
        },
        "id": "z85cVPc9L8pc",
        "outputId": "edf398ce-ced3-4d49-c74d-57e267b19ce2"
      },
      "execution_count": null,
      "outputs": [
        {
          "output_type": "stream",
          "name": "stdout",
          "text": [
            "{'polarity': '1', 'origRating': '5', 'product': 'Mein langsames Leben (2001)', 'origFile': '115383.html'}\n",
            "Druhý film Angely Schanelec o počasí. :) Po zhlédnutí Platze in Stadten jsem byl zvědavý na její následující film. Její rukopis jsem rozeznal hned podle prvních pár záběrů. Vyhýbání se středovým kompozicím, využívání barevnosti kostýmů, věcí a okolí a vždy výrazné počasí. Hlavní postava je divákovi mírně nepříjemná svou odtažitostí a v podstatě namyšleností. Schanelec ji výborně vykresluje, stejně jako většinu ostatních postav. Extrémně \"potěšující\" je možná návaznost s minulým filmem - skrze postavu vdávající se známé. Lze to brát jako dopovězení minulého filmu, který končil \"na dně\", ze které je nutné se vyhrabat.\n"
          ]
        }
      ]
    },
    {
      "cell_type": "markdown",
      "source": [
        "I hope that this will not be a controversial movie and review!\n",
        "\n",
        "This dataset would be great for making a recommendation engine 🤔"
      ],
      "metadata": {
        "id": "o0Ow5HiMNTIX"
      }
    },
    {
      "cell_type": "code",
      "source": [
        "# Processing the whole XML\n",
        "rows = []\n",
        "for index, child in enumerate(root):\n",
        "  txt = child.findtext('text')\n",
        "  rating = int(child.attrib['origRating'])\n",
        "  rows.append([txt, rating])"
      ],
      "metadata": {
        "id": "qILqk4iwM1MF"
      },
      "execution_count": null,
      "outputs": []
    },
    {
      "cell_type": "code",
      "source": [
        "all_data = pd.DataFrame(rows, columns=['text', 'rating'])\n",
        "all_data.head()"
      ],
      "metadata": {
        "colab": {
          "base_uri": "https://localhost:8080/",
          "height": 206
        },
        "id": "nC4d9P3vOiww",
        "outputId": "257261d1-d2f1-44e4-e1ca-a20658d25b36"
      },
      "execution_count": null,
      "outputs": [
        {
          "output_type": "execute_result",
          "data": {
            "text/plain": [
              "                                                text  rating\n",
              "0  Druhý film Angely Schanelec o počasí. :) Po zh...       5\n",
              "1  U Pomalého života jsem strávil 80 minut a teď ...       2\n",
              "2  Nevím, jestli je to nepovedeným dabingem, otra...       2\n",
              "3  Upřímný a velice smutný film, chvílemi tak dep...       5\n",
              "4  Možná to bude trochu divný komentář, ale nemůž...       2"
            ],
            "text/html": [
              "\n",
              "  <div id=\"df-6e347cc5-8920-49e5-adc0-7d6a16292042\">\n",
              "    <div class=\"colab-df-container\">\n",
              "      <div>\n",
              "<style scoped>\n",
              "    .dataframe tbody tr th:only-of-type {\n",
              "        vertical-align: middle;\n",
              "    }\n",
              "\n",
              "    .dataframe tbody tr th {\n",
              "        vertical-align: top;\n",
              "    }\n",
              "\n",
              "    .dataframe thead th {\n",
              "        text-align: right;\n",
              "    }\n",
              "</style>\n",
              "<table border=\"1\" class=\"dataframe\">\n",
              "  <thead>\n",
              "    <tr style=\"text-align: right;\">\n",
              "      <th></th>\n",
              "      <th>text</th>\n",
              "      <th>rating</th>\n",
              "    </tr>\n",
              "  </thead>\n",
              "  <tbody>\n",
              "    <tr>\n",
              "      <th>0</th>\n",
              "      <td>Druhý film Angely Schanelec o počasí. :) Po zh...</td>\n",
              "      <td>5</td>\n",
              "    </tr>\n",
              "    <tr>\n",
              "      <th>1</th>\n",
              "      <td>U Pomalého života jsem strávil 80 minut a teď ...</td>\n",
              "      <td>2</td>\n",
              "    </tr>\n",
              "    <tr>\n",
              "      <th>2</th>\n",
              "      <td>Nevím, jestli je to nepovedeným dabingem, otra...</td>\n",
              "      <td>2</td>\n",
              "    </tr>\n",
              "    <tr>\n",
              "      <th>3</th>\n",
              "      <td>Upřímný a velice smutný film, chvílemi tak dep...</td>\n",
              "      <td>5</td>\n",
              "    </tr>\n",
              "    <tr>\n",
              "      <th>4</th>\n",
              "      <td>Možná to bude trochu divný komentář, ale nemůž...</td>\n",
              "      <td>2</td>\n",
              "    </tr>\n",
              "  </tbody>\n",
              "</table>\n",
              "</div>\n",
              "      <button class=\"colab-df-convert\" onclick=\"convertToInteractive('df-6e347cc5-8920-49e5-adc0-7d6a16292042')\"\n",
              "              title=\"Convert this dataframe to an interactive table.\"\n",
              "              style=\"display:none;\">\n",
              "        \n",
              "  <svg xmlns=\"http://www.w3.org/2000/svg\" height=\"24px\"viewBox=\"0 0 24 24\"\n",
              "       width=\"24px\">\n",
              "    <path d=\"M0 0h24v24H0V0z\" fill=\"none\"/>\n",
              "    <path d=\"M18.56 5.44l.94 2.06.94-2.06 2.06-.94-2.06-.94-.94-2.06-.94 2.06-2.06.94zm-11 1L8.5 8.5l.94-2.06 2.06-.94-2.06-.94L8.5 2.5l-.94 2.06-2.06.94zm10 10l.94 2.06.94-2.06 2.06-.94-2.06-.94-.94-2.06-.94 2.06-2.06.94z\"/><path d=\"M17.41 7.96l-1.37-1.37c-.4-.4-.92-.59-1.43-.59-.52 0-1.04.2-1.43.59L10.3 9.45l-7.72 7.72c-.78.78-.78 2.05 0 2.83L4 21.41c.39.39.9.59 1.41.59.51 0 1.02-.2 1.41-.59l7.78-7.78 2.81-2.81c.8-.78.8-2.07 0-2.86zM5.41 20L4 18.59l7.72-7.72 1.47 1.35L5.41 20z\"/>\n",
              "  </svg>\n",
              "      </button>\n",
              "      \n",
              "  <style>\n",
              "    .colab-df-container {\n",
              "      display:flex;\n",
              "      flex-wrap:wrap;\n",
              "      gap: 12px;\n",
              "    }\n",
              "\n",
              "    .colab-df-convert {\n",
              "      background-color: #E8F0FE;\n",
              "      border: none;\n",
              "      border-radius: 50%;\n",
              "      cursor: pointer;\n",
              "      display: none;\n",
              "      fill: #1967D2;\n",
              "      height: 32px;\n",
              "      padding: 0 0 0 0;\n",
              "      width: 32px;\n",
              "    }\n",
              "\n",
              "    .colab-df-convert:hover {\n",
              "      background-color: #E2EBFA;\n",
              "      box-shadow: 0px 1px 2px rgba(60, 64, 67, 0.3), 0px 1px 3px 1px rgba(60, 64, 67, 0.15);\n",
              "      fill: #174EA6;\n",
              "    }\n",
              "\n",
              "    [theme=dark] .colab-df-convert {\n",
              "      background-color: #3B4455;\n",
              "      fill: #D2E3FC;\n",
              "    }\n",
              "\n",
              "    [theme=dark] .colab-df-convert:hover {\n",
              "      background-color: #434B5C;\n",
              "      box-shadow: 0px 1px 3px 1px rgba(0, 0, 0, 0.15);\n",
              "      filter: drop-shadow(0px 1px 2px rgba(0, 0, 0, 0.3));\n",
              "      fill: #FFFFFF;\n",
              "    }\n",
              "  </style>\n",
              "\n",
              "      <script>\n",
              "        const buttonEl =\n",
              "          document.querySelector('#df-6e347cc5-8920-49e5-adc0-7d6a16292042 button.colab-df-convert');\n",
              "        buttonEl.style.display =\n",
              "          google.colab.kernel.accessAllowed ? 'block' : 'none';\n",
              "\n",
              "        async function convertToInteractive(key) {\n",
              "          const element = document.querySelector('#df-6e347cc5-8920-49e5-adc0-7d6a16292042');\n",
              "          const dataTable =\n",
              "            await google.colab.kernel.invokeFunction('convertToInteractive',\n",
              "                                                     [key], {});\n",
              "          if (!dataTable) return;\n",
              "\n",
              "          const docLinkHtml = 'Like what you see? Visit the ' +\n",
              "            '<a target=\"_blank\" href=https://colab.research.google.com/notebooks/data_table.ipynb>data table notebook</a>'\n",
              "            + ' to learn more about interactive tables.';\n",
              "          element.innerHTML = '';\n",
              "          dataTable['output_type'] = 'display_data';\n",
              "          await google.colab.output.renderOutput(dataTable, element);\n",
              "          const docLink = document.createElement('div');\n",
              "          docLink.innerHTML = docLinkHtml;\n",
              "          element.appendChild(docLink);\n",
              "        }\n",
              "      </script>\n",
              "    </div>\n",
              "  </div>\n",
              "  "
            ]
          },
          "metadata": {},
          "execution_count": 30
        }
      ]
    },
    {
      "cell_type": "markdown",
      "source": [
        "# Data TODOs\n",
        "\n",
        "- Divide into reproducible train/test sets\n",
        "- Should the text include other info (such as movie title?)\n",
        "- Would a classification (+/-) or regression (1-5) task be easier?\n",
        "- Is the dataset balanced between 1-5?\n"
      ],
      "metadata": {
        "id": "RlaicqiuOw-p"
      }
    },
    {
      "cell_type": "code",
      "source": [
        "train_data = all_data.sample(10)"
      ],
      "metadata": {
        "id": "Fm8iu3kdPAta"
      },
      "execution_count": null,
      "outputs": []
    },
    {
      "cell_type": "code",
      "source": [
        "train_data.to_csv(\"./train.csv\", index=False)"
      ],
      "metadata": {
        "id": "IvC8fx7OPNf8"
      },
      "execution_count": null,
      "outputs": []
    }
  ]
}